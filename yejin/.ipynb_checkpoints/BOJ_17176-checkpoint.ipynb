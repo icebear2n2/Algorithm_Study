{
 "cells": [
  {
   "cell_type": "code",
   "execution_count": null,
   "id": "9bd8df9c",
   "metadata": {},
   "outputs": [],
   "source": [
    "#17176 암호해독기\n",
    "\n",
    "N=int(input())\n",
    "sen = list(map(int, input().split()))\n",
    "o_sen = list(str(input()))\n",
    "dic={' ':0, 'A':1, 'B':2, 'C':3, 'D':4,'E':5, 'F':6, 'G':7, 'H':8,\n",
    "    'I':9, 'J':10, 'K':11, 'L':12, 'M':13, 'N':14, 'O':15, 'P':16,\n",
    "    'Q':17, 'R':18, 'S':19, 'T':20, 'U':21, 'V':22, 'W':23, 'X':24,\n",
    "    'Y':25, 'Z':26, 'a':27, 'b':28, 'c':29, 'd':30, 'e':31, 'f':32,\n",
    "    'g':33, 'h':34, 'i':35, 'j':36, 'k':37, 'l':38, 'm':39, 'n':40,\n",
    "    'o':41, 'p':42, 'q':43, 'r':44, 's':45, 't':46, 'u':47, 'v':48,\n",
    "    'w':49, 'x':50, 'y':51, 'z':52}\n",
    "\n",
    "result=[]\n",
    "for i in range(N):\n",
    "    key = dic[o_sen[i]]\n",
    "    result.append(key)\n",
    "    \n",
    "sen.sort()\n",
    "result.sort()\n",
    "\n",
    "if sen==result:\n",
    "    print(\"y\")\n",
    "else :\n",
    "    print(\"n\")"
   ]
  }
 ],
 "metadata": {
  "kernelspec": {
   "display_name": "Python 3",
   "language": "python",
   "name": "python3"
  },
  "language_info": {
   "codemirror_mode": {
    "name": "ipython",
    "version": 3
   },
   "file_extension": ".py",
   "mimetype": "text/x-python",
   "name": "python",
   "nbconvert_exporter": "python",
   "pygments_lexer": "ipython3",
   "version": "3.6.13"
  },
  "toc": {
   "base_numbering": 1,
   "nav_menu": {},
   "number_sections": true,
   "sideBar": true,
   "skip_h1_title": false,
   "title_cell": "Table of Contents",
   "title_sidebar": "Contents",
   "toc_cell": false,
   "toc_position": {},
   "toc_section_display": true,
   "toc_window_display": false
  }
 },
 "nbformat": 4,
 "nbformat_minor": 5
}
