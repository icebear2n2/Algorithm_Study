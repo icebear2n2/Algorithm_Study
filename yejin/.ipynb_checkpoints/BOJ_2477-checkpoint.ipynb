{
 "cells": [
  {
   "cell_type": "code",
   "execution_count": null,
   "id": "ab76538e",
   "metadata": {},
   "outputs": [],
   "source": [
    "#2477 참외밭\n",
    "\n",
    "K = int(input())  #단위면적당 자라는 참외의 개수\n",
    "\n",
    "# 동서남북 방향이 1,4,1,4 또는 3,1,3,1과 같이 반복될때 \n",
    "# 중간의 두변이 비어있는 직사각형 공간\n",
    "\n",
    "# 반복될 때의 중간 두변()()길이 구하기\n",
    "\n",
    "side = [list(map(int, input().split())) for _ in range(6)]   # 변 6개 입력 받기\n",
    "\n",
    "\n",
    "\n",
    "for i in range(4):\n",
    "    if side[i][0] == side[i+2][0]:\n",
    "        c = side[i+1][1]\n",
    "        d = side[i+2][1]\n",
    "        break\n",
    "\n",
    "if side[1][0] == side[5][0]:      #1() 3() 1 4 2 3 \n",
    "    if side[0][0] == side[2][0]:\n",
    "        c = side[0][1]\n",
    "        d = side[1][1]\n",
    "    else :                        #3() 1 4 2 3 1()\n",
    "        c = side[0][1]\n",
    "        d = side[5][1]\n",
    "        \n",
    "        \n",
    "a_list = []\n",
    "b_list = []\n",
    "for i in range(6):\n",
    "    if side[i][0] == 1 or side[i][0] ==2:\n",
    "        a_list.append(side[i][1])\n",
    "    else :\n",
    "        b_list.append(side[i][1])\n",
    "a = max(a_list)\n",
    "b = max(b_list)\n",
    "    \n",
    "\n",
    "area = int((4*a*b-4*c*d)/4)\n",
    "melon = K * area\n",
    "print(melon)"
   ]
  }
 ],
 "metadata": {
  "kernelspec": {
   "display_name": "Python 3",
   "language": "python",
   "name": "python3"
  },
  "language_info": {
   "codemirror_mode": {
    "name": "ipython",
    "version": 3
   },
   "file_extension": ".py",
   "mimetype": "text/x-python",
   "name": "python",
   "nbconvert_exporter": "python",
   "pygments_lexer": "ipython3",
   "version": "3.6.13"
  },
  "toc": {
   "base_numbering": 1,
   "nav_menu": {},
   "number_sections": true,
   "sideBar": true,
   "skip_h1_title": false,
   "title_cell": "Table of Contents",
   "title_sidebar": "Contents",
   "toc_cell": false,
   "toc_position": {},
   "toc_section_display": true,
   "toc_window_display": false
  }
 },
 "nbformat": 4,
 "nbformat_minor": 5
}
