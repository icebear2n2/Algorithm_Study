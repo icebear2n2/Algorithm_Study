{
 "cells": [
  {
   "cell_type": "code",
   "execution_count": null,
   "id": "ea901a1b",
   "metadata": {},
   "outputs": [],
   "source": [
    "#8979 올림픽 - 8점\n",
    "\n",
    "N, K = map(int,input().split())\n",
    "medals = [list(map(int, input().split())) for _ in range(N)]\n",
    "medals.sort(key= lambda x : (x[1],x[2],x[3]), reverse=True)\n",
    "\n",
    "#sort했을 때 K=medals[i+1][0]의 등수(grade)는 같은 등수가 없으면 i+1\n",
    "# 일단 K를 찾고, sort된 medals안에서 몇번째 인지 확인\n",
    "# 그전꺼 하나랑 같으면 몇번째-1, 두개랑 같으면 몇번째-2\n",
    "# 다른게 나올때까지 count해서 반복\n",
    "cnt = 0\n",
    "for i in range(N) :\n",
    "    if medals[i][0] == K :\n",
    "        grade = 1\n",
    "        for j in range(i) :\n",
    "            if medals[j][1] == medals[j+1][1] :\n",
    "                if medals[j][2] == medals[j+1][2] :\n",
    "                    if medals[j][3] == medals[j+1][3] :\n",
    "                        cnt = cnt + 1\n",
    "                        grade = i+1 - cnt\n",
    "                else :\n",
    "                    grade = i+1\n",
    "            else :\n",
    "                grade = i+1\n",
    "                \n",
    "print(grade)"
   ]
  }
 ],
 "metadata": {
  "kernelspec": {
   "display_name": "Python 3",
   "language": "python",
   "name": "python3"
  },
  "language_info": {
   "codemirror_mode": {
    "name": "ipython",
    "version": 3
   },
   "file_extension": ".py",
   "mimetype": "text/x-python",
   "name": "python",
   "nbconvert_exporter": "python",
   "pygments_lexer": "ipython3",
   "version": "3.6.13"
  },
  "toc": {
   "base_numbering": 1,
   "nav_menu": {},
   "number_sections": true,
   "sideBar": true,
   "skip_h1_title": false,
   "title_cell": "Table of Contents",
   "title_sidebar": "Contents",
   "toc_cell": false,
   "toc_position": {},
   "toc_section_display": true,
   "toc_window_display": false
  }
 },
 "nbformat": 4,
 "nbformat_minor": 5
}
